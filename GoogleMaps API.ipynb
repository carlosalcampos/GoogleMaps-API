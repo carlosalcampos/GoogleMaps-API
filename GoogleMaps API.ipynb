{
 "cells": [
  {
   "cell_type": "markdown",
   "metadata": {},
   "source": [
    "### Autor: Carlos Augusto Lima de Campos\n",
    "### E-mail: camposcarlosal@gmail.com"
   ]
  },
  {
   "cell_type": "markdown",
   "metadata": {},
   "source": [
    "## Importa Bibliotecas de Interesse"
   ]
  },
  {
   "cell_type": "code",
   "execution_count": null,
   "metadata": {},
   "outputs": [],
   "source": [
    "# Importa as bibliotecas\n",
    "!pip install googlemaps\n",
    "import pandas as pd\n",
    "import googlemaps\n",
    "from datetime import datetime, timedelta"
   ]
  },
  {
   "cell_type": "markdown",
   "metadata": {},
   "source": [
    "## Configuração da Apresentação de Dados"
   ]
  },
  {
   "cell_type": "code",
   "execution_count": null,
   "metadata": {},
   "outputs": [],
   "source": [
    "pd.set_option('display.max_columns', None) # Define como default a apresentação de todas as colunas do dataframe\n",
    "pd.set_option('display.max_rows', None) # Define como default a apresentação de todas as linhas do dataframe\n",
    "pd.options.display.float_format = '{:.8f}'.format # Suprimir notação científica\n",
    "pd.set_option('max_colwidth', 500) # Define tamanho máximo para uma coluna"
   ]
  },
  {
   "cell_type": "markdown",
   "metadata": {},
   "source": [
    "## Definição de funções"
   ]
  },
  {
   "cell_type": "code",
   "execution_count": null,
   "metadata": {},
   "outputs": [],
   "source": [
    "# Define função para buscar resultado da API\n",
    "def rotas(row):\n",
    "    try:\n",
    "        endereco_origem = row[origem]\n",
    "        resultado_api = gmaps.directions(origin=endereco_origem, destination=endereco_destino, mode=\"driving\", arrival_time=datetime_object)  \n",
    "        return resultado_api\n",
    "    except:\n",
    "        return \"Erro\"\n",
    "\n",
    "# Define função para trazer resultado de distância em texto\n",
    "def distance_text(row):\n",
    "    try:\n",
    "        val = row['api_resultado'][0]['legs'][0]['distance']['text']\n",
    "        return val\n",
    "    except:\n",
    "        return \"Erro\"\n",
    "\n",
    "# Define função para trazer resultado de distância em valores\n",
    "def distance_value(row):\n",
    "    try:\n",
    "        val = row['api_resultado'][0]['legs'][0]['distance']['value']\n",
    "        return val\n",
    "    except:\n",
    "        return \"Erro\"\n",
    "\n",
    "# Define função para trazer resultado de duração em texto\n",
    "def duration_text(row):\n",
    "    try:\n",
    "        val = row['api_resultado'][0]['legs'][0]['duration']['text']\n",
    "        return val\n",
    "    except:\n",
    "        return \"Erro\"\n",
    "\n",
    "# Define função para trazer resultado de duração em valores\n",
    "def duration_value(row):\n",
    "    try:\n",
    "        val = row['api_resultado'][0]['legs'][0]['duration']['value']\n",
    "        return val\n",
    "    except:\n",
    "        return \"Erro\"\n",
    "\n",
    "# Define função para trazer resultado de endereço de partida\n",
    "def start_address(row):\n",
    "    try:\n",
    "        val = row['api_resultado'][0]['legs'][0]['start_address']\n",
    "        return val\n",
    "    except:\n",
    "        return \"Erro\"\n",
    "\n",
    "# Define função para trazer resultado de latitude de endereço de partida\n",
    "def start_location_lat(row):\n",
    "    try:\n",
    "        val = row['api_resultado'][0]['legs'][0]['start_location']['lat']\n",
    "        return val\n",
    "    except:\n",
    "        return \"Erro\"\n",
    "\n",
    "# Define função para trazer resultado de longitude de endereço de partida\n",
    "def start_location_lng(row):\n",
    "    try:\n",
    "        val = row['api_resultado'][0]['legs'][0]['start_location']['lng']\n",
    "        return val\n",
    "    except:\n",
    "        return \"Erro\"\n",
    "\n",
    "# Define função para trazer resultado de endereço de destino\n",
    "def end_address(row):\n",
    "    try:\n",
    "        val = row['api_resultado'][0]['legs'][0]['end_address']\n",
    "        return val\n",
    "    except:\n",
    "        return \"Erro\"\n",
    "\n",
    "# Define função para trazer resultado de latitude de endereço de destino\n",
    "def end_location_lat(row):\n",
    "    try:\n",
    "        val = row['api_resultado'][0]['legs'][0]['end_location']['lat']\n",
    "        return val\n",
    "    except:\n",
    "        return \"Erro\"\n",
    "\n",
    "# Define função para trazer resultado de longitude de endereço de destino\n",
    "def end_location_lng(row):\n",
    "    try:\n",
    "        val = row['api_resultado'][0]['legs'][0]['end_location']['lng']\n",
    "        return val\n",
    "    except:\n",
    "        return \"Erro\"\n",
    "\n",
    "# Define função para trazer resultado de summary\n",
    "def api_summary(row):\n",
    "    try:\n",
    "        val = row['api_resultado'][0]['summary']\n",
    "        return val\n",
    "    except:\n",
    "        return \"Erro\"\n",
    "\n",
    "# Define função para trazer resultado de warnings\n",
    "def api_warnings(row):\n",
    "    try:\n",
    "        val = row['api_resultado'][0]['warnings']\n",
    "        return val\n",
    "    except:\n",
    "        return \"Erro\""
   ]
  },
  {
   "cell_type": "markdown",
   "metadata": {},
   "source": [
    "## Definição de variáveis"
   ]
  },
  {
   "cell_type": "code",
   "execution_count": null,
   "metadata": {},
   "outputs": [],
   "source": [
    "# Define data padrão para trânsito\n",
    "datetime_str = '06/02/21 08:00:00'\n",
    "datetime_object = datetime.strptime(datetime_str, '%m/%d/%y %H:%M:%S')"
   ]
  },
  {
   "cell_type": "code",
   "execution_count": null,
   "metadata": {},
   "outputs": [],
   "source": [
    "# Define a chave para conectar na API\n",
    "# Incluir a chave da API Google em key=''\n",
    "gmaps = googlemaps.Client(key='')"
   ]
  },
  {
   "cell_type": "markdown",
   "metadata": {},
   "source": [
    "## Criação de dataframe de endereço de origem e dicionário para destinos"
   ]
  },
  {
   "cell_type": "code",
   "execution_count": null,
   "metadata": {},
   "outputs": [],
   "source": [
    "# Cria datafarme\n",
    "geoloc = pd.read_excel('Base Exemplo.xlsx')\n",
    "\n",
    "# Define o nome da coluna que contem os dados de endereço\n",
    "origem = 'Endereco'"
   ]
  },
  {
   "cell_type": "code",
   "execution_count": null,
   "metadata": {},
   "outputs": [],
   "source": [
    "# Define um dicionário com os possíveis destinos (nome : endereço)\n",
    "destino_dictionary = {\n",
    "    'MASP':'Avenida Paulista, 1578, São Paulo',\n",
    "    'Hospital das Clínicas':'Av. Dr. Enéas Carvalho de Aguiar, 255 - Cerqueira César, São Paulo - SP'\n",
    "}\n",
    "\n",
    "# Seleciona o destino que faremos a avaliação\n",
    "destino = 'MASP'\n",
    "endereco_destino = destino_dictionary[destino]"
   ]
  },
  {
   "cell_type": "markdown",
   "metadata": {},
   "source": [
    "## Consulta a API e geração de arquivo .xlsx com resultado"
   ]
  },
  {
   "cell_type": "code",
   "execution_count": null,
   "metadata": {},
   "outputs": [],
   "source": [
    "# Faz consulta na API GoogleMaps para verificar as rotas entre origem e destino \n",
    "geoloc['api_resultado'] = geoloc.apply(rotas, axis=1)"
   ]
  },
  {
   "cell_type": "code",
   "execution_count": null,
   "metadata": {},
   "outputs": [],
   "source": [
    "# Desdobra as variáveis retornadas na API para colunas\n",
    "geoloc['distance_text'] = geoloc.apply(distance_text, axis=1)\n",
    "geoloc['distance_value'] = geoloc.apply(distance_value, axis=1)\n",
    "geoloc['duration_text'] = geoloc.apply(duration_text, axis=1)\n",
    "geoloc['duration_value'] = geoloc.apply(duration_value, axis=1)\n",
    "geoloc['start_address'] = geoloc.apply(start_address, axis=1)\n",
    "geoloc['start_location_lat'] = geoloc.apply(start_location_lat, axis=1)\n",
    "geoloc['start_location_lng'] = geoloc.apply(start_location_lng, axis=1)\n",
    "geoloc['end_address'] = geoloc.apply(end_address, axis=1)\n",
    "geoloc['end_location_lat'] = geoloc.apply(end_location_lat, axis=1)\n",
    "geoloc['end_location_lng'] = geoloc.apply(end_location_lng, axis=1)\n",
    "geoloc['api_summary'] = geoloc.apply(api_summary, axis=1)\n",
    "geoloc['api_warnings'] = geoloc.apply(api_warnings, axis=1)"
   ]
  },
  {
   "cell_type": "code",
   "execution_count": null,
   "metadata": {},
   "outputs": [],
   "source": [
    "# Salva o arquivo em .xlsx\n",
    "geoloc.to_excel(\"geoloc\"+\" \"+datetime.now().strftime(\"%d-%m-%Y %H-%M-%S\")+\".xlsx\", sheet_name=\"Geo\",  float_format=\"%.8f\", index = False) "
   ]
  }
 ],
 "metadata": {
  "kernelspec": {
   "display_name": "Python 3",
   "language": "python",
   "name": "python3"
  },
  "language_info": {
   "codemirror_mode": {
    "name": "ipython",
    "version": 3
   },
   "file_extension": ".py",
   "mimetype": "text/x-python",
   "name": "python",
   "nbconvert_exporter": "python",
   "pygments_lexer": "ipython3",
   "version": "3.8.8"
  }
 },
 "nbformat": 4,
 "nbformat_minor": 2
}
